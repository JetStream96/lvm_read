{
 "cells": [
  {
   "cell_type": "code",
   "execution_count": 1,
   "metadata": {
    "collapsed": false
   },
   "outputs": [],
   "source": [
    "import lvm_read\n",
    "import numpy as np\n",
    "import matplotlib.pyplot as plt\n",
    "%matplotlib inline\n",
    "import urllib"
   ]
  },
  {
   "cell_type": "markdown",
   "metadata": {},
   "source": [
    "# Showcase of the package ``lvm_read``"
   ]
  },
  {
   "cell_type": "markdown",
   "metadata": {},
   "source": [
    "Sep 2016, J. Slavič (janko.slavic@fs.uni-lj.si, [ladisk.si/~slavic](http://ladisk.si/~slavic))"
   ]
  },
  {
   "cell_type": "markdown",
   "metadata": {},
   "source": [
    "## Download a sample file from github"
   ]
  },
  {
   "cell_type": "code",
   "execution_count": 2,
   "metadata": {
    "collapsed": false
   },
   "outputs": [],
   "source": [
    "filename = 'short.lvm'\n",
    "#filename = 'long.lvm'\n",
    "#filename = 'with_empty_fields.lvm'\n",
    "#filename = 'multi_time_column.lvm'\n",
    "\n",
    "sample_file = urllib.request.urlopen('https://raw.githubusercontent.com/openmodal/lvm_read/master/data/'+filename).read()"
   ]
  },
  {
   "cell_type": "markdown",
   "metadata": {},
   "source": [
    "Raw output of the sample"
   ]
  },
  {
   "cell_type": "code",
   "execution_count": 3,
   "metadata": {
    "collapsed": false
   },
   "outputs": [
    {
     "data": {
      "text/plain": [
       "b'LabVIEW Measurement\\t\\nWriter_Version\\t2\\nReader_Version\\t2\\nSeparator\\tTab\\nDecimal_Separator\\t,\\nMulti_Headings\\tYes\\nX_Columns\\tNo\\nTime_Pref\\tAbsolute\\nOperator\\tJS\\nDate\\t2013/02/19\\nTime\\t09:51:39,1970510124996275989\\n***End_of_Header***\\t\\n\\t\\nChannels\\t2\\t\\t\\nSamples\\t10\\t10\\t\\nDate\\t2013/02/19\\t2013/02/19\\t\\nTime\\t09:51:40,7271890640258789063\\t09:51:40,7271890640258789063\\t\\nY_Unit_Label\\tNewtons\\tm/s^2\\t\\nX_Dimension\\tTime\\tTime\\t\\nX0\\t0,0000000000000000E+0\\t0,0000000000000000E+0\\t\\nDelta_X\\t3,906250E-5\\t3,906250E-5\\t\\n***End_of_Header***\\t\\t\\t\\nX_Value\\tExcitation (Trigger)\\tResponse (Trigger)\\tComment\\n\\t0,914018\\t1,204792\\n\\t0,537321\\t1,208403\\n\\t0,616905\\t1,213915\\n\\t0,895449\\t1,212205\\n\\t0,574460\\t1,222088\\n\\t0,516099\\t1,218223\\n\\t1,046658\\t1,213408\\n\\t0,394070\\t1,221011\\n\\t0,741586\\t1,211888\\n\\t0,680572\\t1,212775\\n'"
      ]
     },
     "execution_count": 3,
     "metadata": {},
     "output_type": "execute_result"
    }
   ],
   "source": [
    "sample_file"
   ]
  },
  {
   "cell_type": "markdown",
   "metadata": {},
   "source": [
    "Save it localy:"
   ]
  },
  {
   "cell_type": "code",
   "execution_count": 43,
   "metadata": {
    "collapsed": false
   },
   "outputs": [],
   "source": [
    "with open(filename, 'wb') as f:\n",
    "    f.write(sample_file)"
   ]
  },
  {
   "cell_type": "markdown",
   "metadata": {},
   "source": [
    "## Open the sample with ``lvm_read``"
   ]
  },
  {
   "cell_type": "code",
   "execution_count": 9,
   "metadata": {
    "collapsed": false
   },
   "outputs": [
    {
     "name": "stdout",
     "output_type": "stream",
     "text": [
      "100 loops, best of 3: 2.86 ms per loop\n"
     ]
    }
   ],
   "source": [
    "%%timeit\n",
    "lvm = lvm_read.read('.\\\\data\\\\'+filename, read_from_pickle=False)"
   ]
  },
  {
   "cell_type": "markdown",
   "metadata": {},
   "source": [
    "Header of the lvm file"
   ]
  },
  {
   "cell_type": "code",
   "execution_count": 8,
   "metadata": {
    "collapsed": false
   },
   "outputs": [
    {
     "data": {
      "text/plain": [
       "dict_keys([0, 'Segments', 'Reader_Version', 'Date', 'Decimal_Separator', 'Separator', 'Time', 'Writer_Version', 'X_Columns', 'Time_Pref', 'Operator', 'Multi_Headings'])"
      ]
     },
     "execution_count": 8,
     "metadata": {},
     "output_type": "execute_result"
    }
   ],
   "source": [
    "lvm.keys()"
   ]
  },
  {
   "cell_type": "markdown",
   "metadata": {},
   "source": [
    "E.g.: number of segments in the lvm file:"
   ]
  },
  {
   "cell_type": "code",
   "execution_count": 46,
   "metadata": {
    "collapsed": false
   },
   "outputs": [
    {
     "data": {
      "text/plain": [
       "1"
      ]
     },
     "execution_count": 46,
     "metadata": {},
     "output_type": "execute_result"
    }
   ],
   "source": [
    "lvm['Segments']"
   ]
  },
  {
   "cell_type": "markdown",
   "metadata": {},
   "source": [
    "## Segment details"
   ]
  },
  {
   "cell_type": "markdown",
   "metadata": {},
   "source": [
    "Segments are accessed by index"
   ]
  },
  {
   "cell_type": "code",
   "execution_count": 47,
   "metadata": {
    "collapsed": false
   },
   "outputs": [
    {
     "data": {
      "text/plain": [
       "{'Channel names': ['Excitation (Trigger)', 'Response (Trigger)', 'Comment'],\n",
       " 'Channels': 2,\n",
       " 'Date': ['2013/02/19', '2013/02/19', ''],\n",
       " 'Delta_X': [3.90625e-05, 3.90625e-05, nan],\n",
       " 'Samples': [10, 10, nan],\n",
       " 'Time': ['09:51:40,7271890640258789063', '09:51:40,7271890640258789063', ''],\n",
       " 'X0': [0.0, 0.0, nan],\n",
       " 'X_Dimension': ['Time', 'Time', ''],\n",
       " 'Y_Unit_Label': ['Newtons', 'm/s^2', ''],\n",
       " 'data': array([[ 0.914018,  1.204792],\n",
       "        [ 0.537321,  1.208403],\n",
       "        [ 0.616905,  1.213915],\n",
       "        [ 0.895449,  1.212205],\n",
       "        [ 0.57446 ,  1.222088],\n",
       "        [ 0.516099,  1.218223],\n",
       "        [ 1.046658,  1.213408],\n",
       "        [ 0.39407 ,  1.221011],\n",
       "        [ 0.741586,  1.211888],\n",
       "        [ 0.680572,  1.212775]])}"
      ]
     },
     "execution_count": 47,
     "metadata": {},
     "output_type": "execute_result"
    }
   ],
   "source": [
    "lvm[0]"
   ]
  },
  {
   "cell_type": "code",
   "execution_count": 48,
   "metadata": {
    "collapsed": false
   },
   "outputs": [
    {
     "data": {
      "text/plain": [
       "{'Channel names': ['Excitation (Trigger)', 'Response (Trigger)', 'Comment'],\n",
       " 'Channels': 2,\n",
       " 'Date': ['2013/02/19', '2013/02/19', ''],\n",
       " 'Delta_X': [3.90625e-05, 3.90625e-05, nan],\n",
       " 'Samples': [10, 10, nan],\n",
       " 'Time': ['09:51:40,7271890640258789063', '09:51:40,7271890640258789063', ''],\n",
       " 'X0': [0.0, 0.0, nan],\n",
       " 'X_Dimension': ['Time', 'Time', ''],\n",
       " 'Y_Unit_Label': ['Newtons', 'm/s^2', ''],\n",
       " 'data': array([[ 0.914018,  1.204792],\n",
       "        [ 0.537321,  1.208403],\n",
       "        [ 0.616905,  1.213915],\n",
       "        [ 0.895449,  1.212205],\n",
       "        [ 0.57446 ,  1.222088],\n",
       "        [ 0.516099,  1.218223],\n",
       "        [ 1.046658,  1.213408],\n",
       "        [ 0.39407 ,  1.221011],\n",
       "        [ 0.741586,  1.211888],\n",
       "        [ 0.680572,  1.212775]])}"
      ]
     },
     "execution_count": 48,
     "metadata": {},
     "output_type": "execute_result"
    }
   ],
   "source": [
    "lvm[0]"
   ]
  },
  {
   "cell_type": "code",
   "execution_count": 49,
   "metadata": {
    "collapsed": false
   },
   "outputs": [
    {
     "data": {
      "text/plain": [
       "array([[ 0.914018,  1.204792],\n",
       "       [ 0.537321,  1.208403],\n",
       "       [ 0.616905,  1.213915],\n",
       "       [ 0.895449,  1.212205],\n",
       "       [ 0.57446 ,  1.222088],\n",
       "       [ 0.516099,  1.218223],\n",
       "       [ 1.046658,  1.213408],\n",
       "       [ 0.39407 ,  1.221011],\n",
       "       [ 0.741586,  1.211888],\n",
       "       [ 0.680572,  1.212775]])"
      ]
     },
     "execution_count": 49,
     "metadata": {},
     "output_type": "execute_result"
    }
   ],
   "source": [
    "lvm[0]['data']"
   ]
  },
  {
   "cell_type": "code",
   "execution_count": 50,
   "metadata": {
    "collapsed": false
   },
   "outputs": [
    {
     "data": {
      "image/png": "[encoded data removed]",
      "text/plain": [
       "<matplotlib.figure.Figure at 0x1d0109df4e0>"
      ]
     },
     "metadata": {},
     "output_type": "display_data"
    }
   ],
   "source": [
    "plt.plot(lvm[0]['data']);"
   ]
  }
 ],
 "metadata": {
  "anaconda-cloud": {},
  "kernelspec": {
   "display_name": "Python [default]",
   "language": "python",
   "name": "python3"
  },
  "language_info": {
   "codemirror_mode": {
    "name": "ipython",
    "version": 3
   },
   "file_extension": ".py",
   "mimetype": "text/x-python",
   "name": "python",
   "nbconvert_exporter": "python",
   "pygments_lexer": "ipython3",
   "version": "3.5.2"
  },
  "latex_envs": {
   "bibliofile": "biblio.bib",
   "cite_by": "apalike",
   "current_citInitial": 1,
   "eqLabelWithNumbers": true,
   "eqNumInitial": 0
  },
  "nav_menu": {},
  "toc": {
   "navigate_menu": true,
   "number_sections": true,
   "sideBar": true,
   "threshold": "2",
   "toc_cell": false,
   "toc_section_display": "block",
   "toc_window_display": false
  }
 },
 "nbformat": 4,
 "nbformat_minor": 0
}
